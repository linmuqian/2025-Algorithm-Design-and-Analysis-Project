{
 "cells": [
  {
   "cell_type": "code",
   "execution_count": 1,
   "id": "ef07f86b",
   "metadata": {},
   "outputs": [
    {
     "name": "stdout",
     "output_type": "stream",
     "text": [
      "\"()\"最少添加0个括号变成合法，即变为\"()\"\n",
      "\"(((\"最少添加3个括号变成合法，即变为\"((()))\"\n",
      "\")))\"最少添加3个括号变成合法，即变为\"()()()\"\n",
      "\"(()))\"最少添加1个括号变成合法，即变为\"(())()\"\n",
      "\"{[}]\"最少添加2个括号变成合法，即变为\"{[{}]}\"\n",
      "\"([]{})\"最少添加0个括号变成合法，即变为\"([]{})\"\n",
      "\"([)]\"最少添加2个括号变成合法，即变为\"([()])\"\n"
     ]
    }
   ],
   "source": [
    "from parentheses_match_algorithms import *\n",
    "\n",
    "# 测试用例\n",
    "test_cases = [\n",
    "    \"()\",     # 0\n",
    "    \"(((\",    # 3\n",
    "    \")))\",    # 3\n",
    "    \"(()))\",  # 1\n",
    "    \"{[}]\",   # 2\n",
    "    \"([]{})\", # 0\n",
    "    \"([)]\",   # 2\n",
    "]\n",
    "\n",
    "for s in test_cases:\n",
    "    print(f\"\\\"{s}\\\"最少添加{min_add_parentheses(s)}个括号变成合法，即变为\\\"{build_valid_sequence(s)}\\\"\")"
   ]
  }
 ],
 "metadata": {
  "kernelspec": {
   "display_name": "nlp",
   "language": "python",
   "name": "python3"
  },
  "language_info": {
   "codemirror_mode": {
    "name": "ipython",
    "version": 3
   },
   "file_extension": ".py",
   "mimetype": "text/x-python",
   "name": "python",
   "nbconvert_exporter": "python",
   "pygments_lexer": "ipython3",
   "version": "3.12.10"
  }
 },
 "nbformat": 4,
 "nbformat_minor": 5
}
